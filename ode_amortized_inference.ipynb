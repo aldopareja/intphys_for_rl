{
 "cells": [
  {
   "cell_type": "code",
   "execution_count": 9,
   "id": "09981324-154f-4093-a05e-0b9e37ff2abe",
   "metadata": {},
   "outputs": [
    {
     "name": "stdout",
     "output_type": "stream",
     "text": [
      "The autoreload extension is already loaded. To reload it, use:\n",
      "  %reload_ext autoreload\n"
     ]
    }
   ],
   "source": [
    "%load_ext autoreload\n",
    "%autoreload 2\n",
    "from matplotlib import pyplot as plt\n",
    "\n",
    "import torch\n",
    "from torchdiffeq import odeint\n",
    "\n",
    "import main as m\n"
   ]
  },
  {
   "cell_type": "code",
   "execution_count": 156,
   "id": "a36b7d89-e410-4e54-8baf-c0534465b52a",
   "metadata": {},
   "outputs": [],
   "source": [
    "ts = torch.tensor([0.0,1.0,2,3,4,5,8,10,15,20,30,40,60,70,80])\n",
    "n_vars = 3\n",
    "batch_size = 10\n"
   ]
  },
  {
   "cell_type": "code",
   "execution_count": 184,
   "id": "a2b13f31-d51e-4022-9179-b0005eb118b7",
   "metadata": {},
   "outputs": [
    {
     "data": {
      "text/plain": [
       "[<matplotlib.lines.Line2D at 0x7f7c7c7a2e30>,\n",
       " <matplotlib.lines.Line2D at 0x7f7c7c7a2e90>,\n",
       " <matplotlib.lines.Line2D at 0x7f7c7c7a2fb0>]"
      ]
     },
     "execution_count": 184,
     "metadata": {},
     "output_type": "execute_result"
    },
    {
     "data": {
      "image/png": "[encoded data removed]",
      "text/plain": [
       "<Figure size 432x288 with 1 Axes>"
      ]
     },
     "metadata": {
      "needs_background": "light"
     },
     "output_type": "display_data"
    }
   ],
   "source": [
    "sample = m.solve_ode_sample(10, n_vars, [-10.0, 10.0], [-0.1, 0.1], 0.1, ts)\n",
    "plt.plot(ts, sample[0].reshape(len(ts), n_vars))"
   ]
  },
  {
   "cell_type": "code",
   "execution_count": 186,
   "id": "da32692d-cb1c-4076-989d-855e80e79d9f",
   "metadata": {},
   "outputs": [
    {
     "data": {
      "text/plain": [
       "tensor([[-2.9957, -2.9957, -2.9957],\n",
       "        [-2.9957, -2.9957, -2.9957],\n",
       "        [-2.9957, -2.9957, -2.9957]])"
      ]
     },
     "execution_count": 186,
     "metadata": {},
     "output_type": "execute_result"
    }
   ],
   "source": [
    "theta_dist = torch.distributions.Uniform(*[-10.0, 10.0])\n",
    "sample = theta_dist.rsample((n_vars, n_vars))\n",
    "theta_dist.log_prob(sample)"
   ]
  },
  {
   "cell_type": "code",
   "execution_count": 190,
   "id": "49f58996-2eed-4ac1-9f57-f2c95f0eed2c",
   "metadata": {},
   "outputs": [
    {
     "name": "stderr",
     "output_type": "stream",
     "text": [
      "/tmp/ipykernel_51423/59459223.py:1: UserWarning: To copy construct from a tensor, it is recommended to use sourceTensor.clone().detach() or sourceTensor.clone().detach().requires_grad_(True), rather than torch.tensor(sourceTensor).\n",
      "  torch.tensor(sample)\n"
     ]
    },
    {
     "data": {
      "text/plain": [
       "tensor([[-9.5346, -8.7625,  1.2335],\n",
       "        [-5.2061,  7.9462,  2.5423],\n",
       "        [ 6.9463, -7.1801,  6.4607]])"
      ]
     },
     "execution_count": 190,
     "metadata": {},
     "output_type": "execute_result"
    }
   ],
   "source": [
    "torch.tensor(sample)"
   ]
  }
 ],
 "metadata": {
  "kernelspec": {
   "display_name": "Python 3 (ipykernel)",
   "language": "python",
   "name": "python3"
  },
  "language_info": {
   "codemirror_mode": {
    "name": "ipython",
    "version": 3
   },
   "file_extension": ".py",
   "mimetype": "text/x-python",
   "name": "python",
   "nbconvert_exporter": "python",
   "pygments_lexer": "ipython3",
   "version": "3.10.4"
  }
 },
 "nbformat": 4,
 "nbformat_minor": 5
}
